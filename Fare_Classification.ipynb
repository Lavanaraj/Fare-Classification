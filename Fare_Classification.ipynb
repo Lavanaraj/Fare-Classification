{
  "nbformat": 4,
  "nbformat_minor": 0,
  "metadata": {
    "colab": {
      "name": "Fare_Classification.ipynb",
      "provenance": [],
      "collapsed_sections": []
    },
    "kernelspec": {
      "name": "python3",
      "display_name": "Python 3"
    }
  },
  "cells": [
    {
      "cell_type": "code",
      "metadata": {
        "id": "RzvHrLRVKYjv",
        "colab_type": "code",
        "colab": {}
      },
      "source": [
        "import numpy as np\n",
        "import pandas as pd\n",
        "from sklearn.preprocessing import OneHotEncoder\n",
        "from sklearn.preprocessing import LabelEncoder\n",
        "from sklearn.compose import ColumnTransformer\n",
        "import matplotlib.pyplot as plt\n",
        "import datetime\n",
        "from math import sin, cos, sqrt, atan2, radians\n",
        "\n",
        "from sklearn.preprocessing import MinMaxScaler\n",
        "from sklearn.decomposition import KernelPCA\n",
        "from sklearn.preprocessing import StandardScaler\n",
        "from sklearn.impute import SimpleImputer\n",
        "from sklearn.compose import ColumnTransformer\n",
        "from sklearn.linear_model import LogisticRegression\n",
        "from sklearn.multioutput import MultiOutputClassifier\n",
        "from sklearn.pipeline import Pipeline\n",
        "from sklearn.model_selection import train_test_split\n",
        "from sklearn.metrics import roc_curve, roc_auc_score\n",
        "RANDOM_SEED = 6    # Set a random seed for reproducibility!\n",
        "from xgboost import XGBClassifier\n"
      ],
      "execution_count": 0,
      "outputs": []
    },
    {
      "cell_type": "code",
      "metadata": {
        "id": "aSTISKkRKrgo",
        "colab_type": "code",
        "colab": {}
      },
      "source": [
        "#LOAD DATA\n",
        "train_df = pd.read_csv(\"train.csv\", index_col=\"tripid\")\n",
        "test_df = pd.read_csv( \"test.csv\", index_col=\"tripid\")\n",
        "submission_df = pd.read_csv(\"sample_submission.csv\", index_col=\"tripid\")"
      ],
      "execution_count": 0,
      "outputs": []
    },
    {
      "cell_type": "code",
      "metadata": {
        "id": "wjc2qAXrNP5t",
        "colab_type": "code",
        "colab": {}
      },
      "source": [
        "def train_label_to_num(df):\n",
        "    if df['label'] == 'correct':\n",
        "        return 1\n",
        "    elif df['label'] == 'incorrect':\n",
        "        return 0\n",
        "train_df['label']=train_df.apply(train_label_to_num,axis=1)"
      ],
      "execution_count": 0,
      "outputs": []
    },
    {
      "cell_type": "code",
      "metadata": {
        "id": "7om_ehnvL1r1",
        "colab_type": "code",
        "colab": {}
      },
      "source": [
        "# def pickupHourGroup(val):\n",
        "#   val=int(val)\n",
        "#   if(val<5 or val>22):\n",
        "#     return 1\n",
        "#   elif(4<val<8):\n",
        "#     return 0\n",
        "#   elif(7<val<11):\n",
        "#     return 0\n",
        "#   elif(10<val<17):\n",
        "#     return 1\n",
        "#   elif(16<val<21):\n",
        "#     return 0\n",
        "#   elif(20<val<23):\n",
        "#     return 1\n",
        "\n",
        "\n",
        "# get Distance FromLatLon\n",
        "def getDistanceFromLatLonInKm(lat1,lon1,lat2,lon2):\n",
        "  R = 6373.0\n",
        "  lat1=radians(lat1)\n",
        "  lat2=radians(lat2)\n",
        "  lon1=radians(lon1)\n",
        "  lon2=radians(lon2)\n",
        "  dlon = lon2 - lon1\n",
        "  dlat = lat2 - lat1\n",
        "  a = (sin(dlat/2))**2 + cos(lat1) * cos(lat2) * (sin(dlon/2))**2\n",
        "  c = 2 * atan2(sqrt(a), sqrt(1-a))\n",
        "  distance = R * c\n",
        "  return distance"
      ],
      "execution_count": 0,
      "outputs": []
    },
    {
      "cell_type": "code",
      "metadata": {
        "id": "_XmhYPpsK46R",
        "colab_type": "code",
        "colab": {}
      },
      "source": [
        "def preProcess(train_df):\n",
        "  train_df=train_df.dropna(how='any',axis=0)\n",
        "\n",
        "  train_df['pickup_day'] =(train_df['pickup_time'].astype('datetime64')).dt.dayofweek\n",
        "  train_df['drop_day'] =(train_df['drop_time'].astype('datetime64')).dt.dayofweek\n",
        "  train_df['pickup_time'] = pd.to_datetime(train_df['pickup_time'])  \n",
        "  train_df['drop_time'] = pd.to_datetime(train_df['drop_time'])  \n",
        "  train_df['pickup_hour'] = train_df['pickup_time'].dt.strftime('%H')\n",
        "  train_df['total_time']=train_df['duration']+train_df['meter_waiting_till_pickup']\n",
        "  train_df['run_time']=train_df['duration']-train_df['meter_waiting']\n",
        "  train_df['run_fare']=train_df['fare'] - train_df['meter_waiting_fare']-train_df['additional_fare']\n",
        "  train_df['distance']=train_df.apply(lambda row : getDistanceFromLatLonInKm(row['pick_lat'], \n",
        "                      row['pick_lon'], row['drop_lat'], row['drop_lon']), axis = 1) \n",
        "  \n",
        "  # train_df['drop_hour'] = train_df['drop_time'].dt.strftime('%H')\n",
        "  # train_df['pickup_date'] = train_df['pickup_time'].dt.strftime('%D')\n",
        "  # train_df['pickup_month'] = train_df['pickup_time'].dt.month\n",
        "  # train_df['duration_cal']=(train_df['drop_time'] - train_df['pickup_time']).dt.total_seconds()\n",
        "  # train_df[\"pickup_hour_group\"]=train_df.apply(lambda row : pickupHourGroup(row['pickup_hour']), axis = 1)  \n",
        "\n",
        "  # sl_holiday=[\n",
        "  #              \"1/15/2019\",\"1/20/2019\",\"2/4/2019\",\"2/19/2019\",\"3/4/2019\",\"3/20/2019\",\n",
        "  #              \"4/13/2019\",\"4/14/2019\",\"4/15/2019\",\"4/19/2019\",\"5/1/2019\",\"5/18/2019\",\"5/19/2019\",\"5/20/2019\",\n",
        "  #              \"6/5/2019\",\"6/16/2019\",\"7/16/2019\",\"8/12/2019\",\"8/14/2019\",\n",
        "  #              \"9/13/2019\",\"10/13/2019\",\"10/27/2019\",\n",
        "  #              \"11/10/2019\",\"11/11/2019\",\"11/12/2019\",\"12/11/2019\",\"12/25/2019\",\n",
        "  #              \"01/10/2020\",\"01/15/2020\",\"02/8/2020\",\"02/21/2020\",\"03/9/2020\",\"03/16/2020\"]\n",
        "  # sl_holidays = [str(pd.to_datetime(date)).split()[0] for date in sl_holiday]\n",
        "  # train_df[\"Is_Holiday\"]=[1 if str(val).split()[0] in sl_holidays else 0 for val in train_df['drop_time']]      \n",
        "\n",
        "\n",
        "  train_df=train_df.drop(['pickup_time'], axis=1)\n",
        "  train_df=train_df.drop(['drop_time'], axis=1)   \n",
        "  return train_df         \n"
      ],
      "execution_count": 0,
      "outputs": []
    },
    {
      "cell_type": "code",
      "metadata": {
        "id": "mpWuFXBINlT-",
        "colab_type": "code",
        "outputId": "fd4a585b-eced-45ff-c780-843a5aaeaf4b",
        "colab": {
          "base_uri": "https://localhost:8080/",
          "height": 445
        }
      },
      "source": [
        "train_df=preProcess(train_df)\n",
        "features_df=train_df.drop(['label'], axis=1)\n",
        "labels_df=train_df[['label']]\n",
        "\n",
        "test_df=preProcess(test_df)\n"
      ],
      "execution_count": 0,
      "outputs": [
        {
          "output_type": "stream",
          "text": [
            "/usr/local/lib/python3.6/dist-packages/ipykernel_launcher.py:4: SettingWithCopyWarning: \n",
            "A value is trying to be set on a copy of a slice from a DataFrame.\n",
            "Try using .loc[row_indexer,col_indexer] = value instead\n",
            "\n",
            "See the caveats in the documentation: https://pandas.pydata.org/pandas-docs/stable/user_guide/indexing.html#returning-a-view-versus-a-copy\n",
            "  after removing the cwd from sys.path.\n",
            "/usr/local/lib/python3.6/dist-packages/ipykernel_launcher.py:6: SettingWithCopyWarning: \n",
            "A value is trying to be set on a copy of a slice from a DataFrame.\n",
            "Try using .loc[row_indexer,col_indexer] = value instead\n",
            "\n",
            "See the caveats in the documentation: https://pandas.pydata.org/pandas-docs/stable/user_guide/indexing.html#returning-a-view-versus-a-copy\n",
            "  \n",
            "/usr/local/lib/python3.6/dist-packages/ipykernel_launcher.py:8: SettingWithCopyWarning: \n",
            "A value is trying to be set on a copy of a slice from a DataFrame.\n",
            "Try using .loc[row_indexer,col_indexer] = value instead\n",
            "\n",
            "See the caveats in the documentation: https://pandas.pydata.org/pandas-docs/stable/user_guide/indexing.html#returning-a-view-versus-a-copy\n",
            "  \n",
            "/usr/local/lib/python3.6/dist-packages/ipykernel_launcher.py:13: SettingWithCopyWarning: \n",
            "A value is trying to be set on a copy of a slice from a DataFrame.\n",
            "Try using .loc[row_indexer,col_indexer] = value instead\n",
            "\n",
            "See the caveats in the documentation: https://pandas.pydata.org/pandas-docs/stable/user_guide/indexing.html#returning-a-view-versus-a-copy\n",
            "  del sys.path[0]\n"
          ],
          "name": "stderr"
        }
      ]
    },
    {
      "cell_type": "code",
      "metadata": {
        "id": "wLbhIbnIOKag",
        "colab_type": "code",
        "colab": {}
      },
      "source": [
        "fc=['additional_fare', 'duration', 'meter_waiting', 'meter_waiting_fare', 'meter_waiting_till_pickup',\n",
        "    'pick_lat', 'pick_lon', 'drop_lat', 'drop_lon', 'fare', 'pickup_day', 'distance', 'total_time', \n",
        "    'run_time', 'pickup_hour', 'drop_day','run_fare']\n",
        "# 0.9544642857142858\n",
        "# 0.8378562322988795\n",
        "features_df=features_df[fc]\n",
        "test_df=test_df[fc]\n",
        "\n"
      ],
      "execution_count": 0,
      "outputs": []
    },
    {
      "cell_type": "code",
      "metadata": {
        "id": "aqioi4-lbBCi",
        "colab_type": "code",
        "colab": {}
      },
      "source": [
        "\n",
        "\n",
        "# scaler = MinMaxScaler()\n",
        "# # scaler = StandardScaler()\n",
        "# features_df = features_df.iloc[:,:]\n",
        "# features_df = scaler.fit_transform(features_df)\n",
        "# features_df = scaler.transform(features_df)\n",
        "# test_df = test_df.iloc[:,:]\n",
        "# test_df = scaler.fit_transform(test_df)\n",
        "# test_df = scaler.transform(test_df)\n",
        "# print(features_df)"
      ],
      "execution_count": 0,
      "outputs": []
    },
    {
      "cell_type": "code",
      "metadata": {
        "id": "GSWoWw1Jgrk3",
        "colab_type": "code",
        "colab": {}
      },
      "source": [
        "# def scalerFun(features_df):\n",
        "#   scaler1 = MinMaxScaler()\n",
        "#   # scaler1 = StandardScaler()\n",
        "#   # features_df = features_df.iloc[:,:]\n",
        "#   features_df = scaler1.fit_transform(features_df)\n",
        "#   # features_df = scaler1.transform(features_df)\n",
        "\n",
        "#   # kpca1 = KernelPCA(n_components=2, kernel = 'rbf')\n",
        "#   # features_df = kpca1.fit_transform(features_df)\n",
        "#   return features_df\n",
        "\n",
        "# # features_df=scalerFun(features_df)\n",
        "# # test_df=scalerFun(test_df)"
      ],
      "execution_count": 0,
      "outputs": []
    },
    {
      "cell_type": "code",
      "metadata": {
        "id": "y-uynVUBUJyU",
        "colab_type": "code",
        "colab": {}
      },
      "source": [
        "estimators = MultiOutputClassifier(\n",
        " estimator=XGBClassifier(learning_rate =0.01,\n",
        " n_estimators=5000,\n",
        " max_depth=4,\n",
        " min_child_weight=6,\n",
        " gamma=0,\n",
        " subsample=0.8,\n",
        " colsample_bytree=0.8,\n",
        " reg_alpha=0.005,\n",
        " objective= 'binary:logistic',\n",
        " nthread=4,\n",
        " scale_pos_weight=1,\n",
        " seed=27)\n",
        ")\n",
        "\n",
        "X_train, X_eval, y_train, y_eval = train_test_split(\n",
        "    features_df,\n",
        "    labels_df,\n",
        "    test_size=0.33,\n",
        "    shuffle=True,\n",
        "    stratify=labels_df,\n",
        "    random_state=RANDOM_SEED\n",
        ")"
      ],
      "execution_count": 0,
      "outputs": []
    },
    {
      "cell_type": "code",
      "metadata": {
        "id": "Oc562c5vUVHR",
        "colab_type": "code",
        "outputId": "aeaa0c8c-b733-4f93-e63e-5e391d59f2d4",
        "colab": {
          "base_uri": "https://localhost:8080/",
          "height": 85
        }
      },
      "source": [
        "%%time\n",
        "full_pipeline = Pipeline([\n",
        "    (\"estimators\", estimators),\n",
        "])\n",
        "# Train model\n",
        "full_pipeline.fit(X_train, y_train)\n",
        "\n",
        "preds = full_pipeline.predict(X_eval)\n",
        "\n",
        "y_preds = pd.DataFrame(\n",
        "    {\n",
        "        \"label\": preds[:,0],\n",
        "    },\n",
        "    index = y_eval.index\n",
        ")\n",
        "\n",
        "from sklearn.metrics import accuracy_score\n",
        "print(accuracy_score(y_eval, y_preds))\n",
        "from sklearn.metrics import f1_score\n",
        "print(f1_score(y_eval, y_preds, average='macro'))"
      ],
      "execution_count": 0,
      "outputs": [
        {
          "output_type": "stream",
          "text": [
            "0.9480357142857143\n",
            "0.8070253158486145\n",
            "CPU times: user 1min 23s, sys: 2.46 s, total: 1min 26s\n",
            "Wall time: 47.1 s\n"
          ],
          "name": "stdout"
        }
      ]
    },
    {
      "cell_type": "code",
      "metadata": {
        "id": "pczsMgXUUf9y",
        "colab_type": "code",
        "outputId": "c03e57cc-f577-4c46-e30a-ca26ceba3fdb",
        "colab": {
          "base_uri": "https://localhost:8080/",
          "height": 51
        }
      },
      "source": [
        "%%time \n",
        "\n",
        "full_pipeline.fit(features_df, labels_df)\n",
        "\n",
        "None   # So we don't print out the whole pipeline representation"
      ],
      "execution_count": 0,
      "outputs": [
        {
          "output_type": "stream",
          "text": [
            "CPU times: user 1min 58s, sys: 2.67 s, total: 2min\n",
            "Wall time: 1min 5s\n"
          ],
          "name": "stdout"
        }
      ]
    },
    {
      "cell_type": "code",
      "metadata": {
        "id": "Lqffqr2bUkEY",
        "colab_type": "code",
        "outputId": "5dfb639f-d3db-43a4-a8fd-06a82bddc569",
        "colab": {
          "base_uri": "https://localhost:8080/",
          "height": 235
        }
      },
      "source": [
        "test_probas = full_pipeline.predict(test_df)\n",
        "submission_df = pd.read_csv(\"sample_submission.csv\", \n",
        "                            index_col=\"tripid\")\n",
        "submission_df.head()"
      ],
      "execution_count": 0,
      "outputs": [
        {
          "output_type": "execute_result",
          "data": {
            "text/html": [
              "<div>\n",
              "<style scoped>\n",
              "    .dataframe tbody tr th:only-of-type {\n",
              "        vertical-align: middle;\n",
              "    }\n",
              "\n",
              "    .dataframe tbody tr th {\n",
              "        vertical-align: top;\n",
              "    }\n",
              "\n",
              "    .dataframe thead th {\n",
              "        text-align: right;\n",
              "    }\n",
              "</style>\n",
              "<table border=\"1\" class=\"dataframe\">\n",
              "  <thead>\n",
              "    <tr style=\"text-align: right;\">\n",
              "      <th></th>\n",
              "      <th>prediction</th>\n",
              "    </tr>\n",
              "    <tr>\n",
              "      <th>tripid</th>\n",
              "      <th></th>\n",
              "    </tr>\n",
              "  </thead>\n",
              "  <tbody>\n",
              "    <tr>\n",
              "      <th>213284604</th>\n",
              "      <td>1</td>\n",
              "    </tr>\n",
              "    <tr>\n",
              "      <th>213286352</th>\n",
              "      <td>0</td>\n",
              "    </tr>\n",
              "    <tr>\n",
              "      <th>213293973</th>\n",
              "      <td>0</td>\n",
              "    </tr>\n",
              "    <tr>\n",
              "      <th>213294622</th>\n",
              "      <td>1</td>\n",
              "    </tr>\n",
              "    <tr>\n",
              "      <th>213298687</th>\n",
              "      <td>1</td>\n",
              "    </tr>\n",
              "  </tbody>\n",
              "</table>\n",
              "</div>"
            ],
            "text/plain": [
              "           prediction\n",
              "tripid               \n",
              "213284604           1\n",
              "213286352           0\n",
              "213293973           0\n",
              "213294622           1\n",
              "213298687           1"
            ]
          },
          "metadata": {
            "tags": []
          },
          "execution_count": 20
        }
      ]
    },
    {
      "cell_type": "code",
      "metadata": {
        "id": "sLmlkaV3UuBr",
        "colab_type": "code",
        "colab": {}
      },
      "source": [
        "# Make sure we have the rows in the same order\n",
        "np.testing.assert_array_equal(test_df.index.values, \n",
        "                              submission_df.index.values)\n",
        "\n",
        "# Save predictions to submission data frame\n",
        "submission_df[\"prediction\"] = test_probas[:, 0]"
      ],
      "execution_count": 0,
      "outputs": []
    },
    {
      "cell_type": "code",
      "metadata": {
        "id": "3EMNdOz6Uxbc",
        "colab_type": "code",
        "colab": {}
      },
      "source": [
        "submission_df.to_csv('submission.csv', index=True)"
      ],
      "execution_count": 0,
      "outputs": []
    },
    {
      "cell_type": "code",
      "metadata": {
        "id": "l_IPArbNUz3e",
        "colab_type": "code",
        "outputId": "25f10bc5-3101-4982-8b17-499f49525613",
        "colab": {
          "base_uri": "https://localhost:8080/",
          "height": 187
        }
      },
      "source": [
        "!head submission.csv"
      ],
      "execution_count": 0,
      "outputs": [
        {
          "output_type": "stream",
          "text": [
            "tripid,prediction\n",
            "213284604,1\n",
            "213286352,1\n",
            "213293973,1\n",
            "213294622,1\n",
            "213298687,1\n",
            "213299545,1\n",
            "213302332,1\n",
            "213302671,1\n",
            "213305594,1\n"
          ],
          "name": "stdout"
        }
      ]
    }
  ]
}